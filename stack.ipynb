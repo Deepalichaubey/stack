{
 "cells": [
  {
   "cell_type": "code",
   "execution_count": 1,
   "id": "0f4b3a29-287b-4f97-ac38-423b4cf7b29a",
   "metadata": {},
   "outputs": [
    {
     "name": "stdout",
     "output_type": "stream",
     "text": [
      "Vertically stacked array:\n",
      "[[1 2]\n",
      " [3 4]\n",
      " [5 6]\n",
      " [7 8]]\n"
     ]
    }
   ],
   "source": [
    "#Example of Vstack:\n",
    "import numpy as np\n",
    "\n",
    "# Create two sample arrays\n",
    "array1 = np.array([[1, 2], [3, 4]])\n",
    "array2 = np.array([[5, 6], [7, 8]])\n",
    "\n",
    "# Vertically stack them\n",
    "vertically_stacked = np.vstack((array1, array2))\n",
    "\n",
    "print(\"Vertically stacked array:\")\n",
    "print(vertically_stacked)"
   ]
  },
  {
   "cell_type": "code",
   "execution_count": 2,
   "id": "f606f2ac-3405-490c-9965-507a0d81a7c4",
   "metadata": {},
   "outputs": [
    {
     "name": "stdout",
     "output_type": "stream",
     "text": [
      "Horizontally stacked array:\n",
      "[[ 9 11]\n",
      " [10 12]]\n"
     ]
    }
   ],
   "source": [
    "#Example hstack:\n",
    "# Create two more sample arrays\n",
    "array3 = np.array([[9], [10]])\n",
    "array4 = np.array([[11], [12]])\n",
    "\n",
    "# Horizontally stack them\n",
    "horizontally_stacked = np.hstack((array3, array4))\n",
    "\n",
    "print(\"Horizontally stacked array:\")\n",
    "print(horizontally_stacked)"
   ]
  },
  {
   "cell_type": "code",
   "execution_count": null,
   "id": "0774d30a-2dd3-43d1-8dc5-d4bfa58d3c07",
   "metadata": {},
   "outputs": [],
   "source": []
  }
 ],
 "metadata": {
  "kernelspec": {
   "display_name": "Python 3 (ipykernel)",
   "language": "python",
   "name": "python3"
  },
  "language_info": {
   "codemirror_mode": {
    "name": "ipython",
    "version": 3
   },
   "file_extension": ".py",
   "mimetype": "text/x-python",
   "name": "python",
   "nbconvert_exporter": "python",
   "pygments_lexer": "ipython3",
   "version": "3.10.8"
  }
 },
 "nbformat": 4,
 "nbformat_minor": 5
}
